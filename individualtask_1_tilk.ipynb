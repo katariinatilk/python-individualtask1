{
  "nbformat": 4,
  "nbformat_minor": 0,
  "metadata": {
    "colab": {
      "provenance": [],
      "authorship_tag": "ABX9TyMKfWG1EBz2NTkovkVc+9HE",
      "include_colab_link": true
    },
    "kernelspec": {
      "name": "python3",
      "display_name": "Python 3"
    },
    "language_info": {
      "name": "python"
    }
  },
  "cells": [
    {
      "cell_type": "markdown",
      "metadata": {
        "id": "view-in-github",
        "colab_type": "text"
      },
      "source": [
        "<a href=\"https://colab.research.google.com/github/katariinatilk/python-individualtask1/blob/main/individualtask_1_tilk.ipynb\" target=\"_parent\"><img src=\"https://colab.research.google.com/assets/colab-badge.svg\" alt=\"Open In Colab\"/></a>"
      ]
    },
    {
      "cell_type": "code",
      "execution_count": null,
      "metadata": {
        "collapsed": true,
        "id": "5EwS2GOjC_4X"
      },
      "outputs": [],
      "source": [
        "#medium\n",
        "print(\"Welcome to the bank!\")\n",
        "\n",
        "balance = 0\n",
        "\n",
        "while True:\n",
        "    deposit_amount = input('How much would you like to deposit? Add a full number.')\n",
        "    try:\n",
        "        deposit_amount = int(deposit_amount)\n",
        "        balance = balance + deposit_amount\n",
        "        break\n",
        "    except:\n",
        "        print('Please enter a valid number!')\n",
        "\n",
        "\n",
        "balance = balance + deposit_amount\n",
        "\n",
        "while True:\n",
        "    next_action = input('Would you like to continue adding money? If not enter \"done\". If yes, enter another number')\n",
        "    if next_action == \"done\":\n",
        "        break\n",
        "    else:\n",
        "        try:\n",
        "            next_action = int(next_action)\n",
        "            balance = balance + next_action\n",
        "        except:\n",
        "            print('Please enter a valid number!')\n",
        "\n",
        "print(f'Your balance is {balance}')"
      ]
    },
    {
      "cell_type": "code",
      "source": [
        "  #hard\n",
        "print(\"Welcome to the bank!\")\n",
        "print('For depositing enter 1.\\n For Withdrawal enter 2.\\n To check balance, enter 3.\\n To exit enter 4')\n",
        "\n",
        "balance = 0\n",
        "\n",
        "while True:\n",
        "    user_action = input('What would you like to do? See the actions above and choose your action: ')\n",
        "\n",
        "    if user_action == \"4\":\n",
        "        print('Thank you and bye!')\n",
        "        break\n",
        "\n",
        "    elif user_action == \"1\":\n",
        "        deposit_amount = input('How much would you like to deposit? Add a number.')\n",
        "        try:\n",
        "            deposit_amount = int(deposit_amount)\n",
        "            if deposit_amount < 0:\n",
        "                print('Please enter a positive number!')\n",
        "            else:\n",
        "                balance = balance + deposit_amount\n",
        "                print(f'You have deposited {deposit_amount}')\n",
        "        except:\n",
        "            print('Please enter a valid number!')\n",
        "            continue\n",
        "\n",
        "    elif user_action == \"2\":\n",
        "        withdraw_amount = input('How much would you like to withdraw? Add a number')\n",
        "        try:\n",
        "            withdraw_amount = int(withdraw_amount)\n",
        "            if withdraw_amount < 0:\n",
        "                print('Please enter a positive number!')\n",
        "            elif withdraw_amount > balance:\n",
        "                print('Not enough funds on balance!')\n",
        "            else:\n",
        "                balance = balance - withdraw_amount\n",
        "                print(f'You have withdrawn {withdraw_amount}')\n",
        "        except:\n",
        "            print('Please enter a valid number!')\n",
        "            continue\n",
        "    elif user_action == \"3\":\n",
        "\n",
        "        print(f'Your balance is {balance}. ')\n",
        "    else:\n",
        "        print('Please choose one of the given options from 1-4.')\n"
      ],
      "metadata": {
        "id": "2ZfR1K3fJ2Ey"
      },
      "execution_count": null,
      "outputs": []
    }
  ]
}